{
  "cells": [
    {
      "cell_type": "markdown",
      "metadata": {
        "id": "view-in-github",
        "colab_type": "text"
      },
      "source": [
        "<a href=\"https://colab.research.google.com/github/XavierCunha/XavierCunha/blob/main/AutoCalendarAgent.ipynb\" target=\"_parent\"><img src=\"https://colab.research.google.com/assets/colab-badge.svg\" alt=\"Open In Colab\"/></a>"
      ]
    },
    {
      "cell_type": "markdown",
      "metadata": {
        "id": "cTAHaIMRomcO"
      },
      "source": [
        "### 🧠 Deadline Manager Agent – EY AI Challenge\n",
        "\n",
        "Modular notebook: OCR, date parsing, working-days, LLM agent para prazos legais e integração opcional de calendário."
      ]
    },
    {
      "cell_type": "code",
      "source": [
        "from google.colab import drive\n",
        "drive.mount('/content/drive')"
      ],
      "metadata": {
        "colab": {
          "base_uri": "https://localhost:8080/"
        },
        "id": "U-xWtdUdopc2",
        "outputId": "be5da56a-ecbf-41db-eb13-621cfa88eb95"
      },
      "execution_count": 1,
      "outputs": [
        {
          "output_type": "stream",
          "name": "stdout",
          "text": [
            "Mounted at /content/drive\n"
          ]
        }
      ]
    },
    {
      "cell_type": "code",
      "execution_count": null,
      "metadata": {
        "id": "ik9kgGLzomcT"
      },
      "outputs": [],
      "source": [
        "# DEPENDENCIES: Some useful dependencies. Theu might not be necessary.\n",
        "!apt-get update && apt-get install -y tesseract-ocr\n",
        "!pip install --upgrade pytesseract PyPDF2 pillow dateparser python-dateutil holidays transformers huggingface_hub[hf_xet]"
      ]
    },
    {
      "cell_type": "code",
      "execution_count": null,
      "metadata": {
        "id": "vXqUz4g2omcZ"
      },
      "outputs": [],
      "source": [
        "# IMPORTS: Some useful libraries. They might not be necessary\n",
        "import os\n",
        "from datetime import datetime, timedelta\n",
        "from dateparser.search import search_dates\n",
        "import dateparser\n",
        "from dateutil.relativedelta import relativedelta\n",
        "import holidays\n",
        "import pytesseract\n",
        "from PIL import Image\n",
        "from PyPDF2 import PdfReader\n",
        "from transformers import AutoTokenizer, AutoModelForSeq2SeqLM"
      ]
    },
    {
      "cell_type": "markdown",
      "metadata": {
        "id": "A5y84iznomcb"
      },
      "source": [
        "### 🖼️ OCR & PDF Extraction\n",
        "Functions to read text in images (Tesseract) and PDFs."
      ]
    },
    {
      "cell_type": "code",
      "execution_count": null,
      "metadata": {
        "id": "qvhr5MfFomcd"
      },
      "outputs": [],
      "source": [
        "def extract_text_from_image(path):\n",
        "    \"\"\"Base da extração de texto a partir de uma imagem (em português).\"\"\"\n",
        "    return pytesseract.image_to_string(Image.open(path), lang='por')\n",
        "\n",
        "def extract_text_from_pdf(path):\n",
        "    \"\"\"Base da extração de texto de todas as páginas de um PDF.\"\"\"\n",
        "    rdr = PdfReader(path)\n",
        "    return \"\\n\".join(page.extract_text() or \"\" for page in rdr.pages)"
      ]
    },
    {
      "cell_type": "markdown",
      "metadata": {
        "id": "X0-F7NQsomcg"
      },
      "source": [
        "### 🧠 Data extraction (NLU)\n",
        "Extract the first future date from a free text like `dateparser.search.search_dates`."
      ]
    },
    {
      "cell_type": "code",
      "execution_count": null,
      "metadata": {
        "id": "vjLWOMSAomch"
      },
      "outputs": [],
      "source": [
        "def infer_deadline(text, base_date=None):\n",
        "    \"\"\"Base da identificação de uam data a partir de uma imagem.\"\"\"\n",
        "    base = base_date or datetime.now()\n",
        "    res = search_dates(\n",
        "        text,\n",
        "        languages=['pt','en'],\n",
        "        settings={\n",
        "            'PREFER_DATES_FROM':'future',\n",
        "            'RELATIVE_BASE':base,\n",
        "            'DATE_ORDER':'DMY'\n",
        "        }\n",
        "    )\n",
        "    return res[0][1] if res else None"
      ]
    },
    {
      "cell_type": "markdown",
      "metadata": {
        "id": "U3WnPS3somci"
      },
      "source": [
        "### 📅 Work days calculation (PT)\n",
        "Add work days to a date, excluding weekends and Portuguese holidays."
      ]
    },
    {
      "cell_type": "code",
      "execution_count": null,
      "metadata": {
        "id": "2Yd6E8Zhomcj"
      },
      "outputs": [],
      "source": [
        "def add_working_days(start_date, days):\n",
        "    \"\"\"Base de unção auxiliar para somar dias úteis a uma data, gerir férias judiciais, etc.\"\"\"\n",
        "    pt_hols = holidays.Portugal()\n",
        "    curr = start_date\n",
        "    added = 0\n",
        "    while added < days:\n",
        "        curr += relativedelta(days=1)\n",
        "        if curr.weekday() < 5 and curr not in pt_hols:\n",
        "            added += 1\n",
        "    return curr"
      ]
    },
    {
      "cell_type": "markdown",
      "metadata": {
        "id": "zC4kLzhfomcn"
      },
      "source": [
        "### 🤖 Deadline Agent (LLM Free)\n",
        "One type of open-source model (Flan-T5 small) to apply the following rules:\n",
        "- Modelo 22: up to 31/jul\n",
        "- IES: 15/apr (current and next year)\n",
        "- Others: infer via NLP"
      ]
    },
    {
      "cell_type": "code",
      "execution_count": null,
      "metadata": {
        "id": "PFJiU10womco"
      },
      "outputs": [],
      "source": [
        "# Implementation using simple LLM\n",
        "\n",
        "tokenizer = AutoTokenizer.from_pretrained(\"google/flan-t5-small\")\n",
        "model     = AutoModelForSeq2SeqLM.from_pretrained(\"google/flan-t5-small\")\n",
        "\n",
        "def llm_generate(prompt: str, max_length: int = 256) -> str:\n",
        "    inputs = tokenizer(prompt, return_tensors=\"pt\").input_ids\n",
        "    outs = model.generate(\n",
        "        inputs, num_beams=4, early_stopping=True, max_length=max_length\n",
        "    )\n",
        "    return tokenizer.decode(outs[0], skip_special_tokens=True)\n",
        "\n",
        "def agent_process(text, reference_date=None):\n",
        "    \"\"\" Base de um Agente que infere deadlines aplicando regras legais ou simplesmente Língua Natural. Retorna a data em dicionário apto para JSON {'deadline': datetime} ou {'error':...}.\"\"\"\n",
        "\n",
        "    ref = reference_date or datetime.now()\n",
        "\n",
        "    prompt = f\"\"\"\n",
        "You are a Portuguese legal deadline assistant. Determine the deadline for the request below using these rules:\n",
        "- \"Modelo 22\": due by {ref.year}-07-31\n",
        "- \"IES\": due by {ref.year}-04-15 if before, else {ref.year+1}-04-15\n",
        "- Otherwise infer via natural language (e.g. \"5 working days from now\").\n",
        "Reference date: {ref.strftime('%Y-%m-%d')}\n",
        "Input: \"{text}\"\n",
        "Return ONLY a JSON object with key \"deadline\" (ISO8601 date string).\n",
        "\"\"\"\n",
        "\n",
        "    raw = llm_generate(prompt)\n",
        "\n",
        "    try:\n",
        "        obj = json.loads(raw)\n",
        "        d = dateparser.parse(obj['deadline'])\n",
        "        return {'deadline': d}\n",
        "    except Exception as e:\n",
        "        return {'error': f'LLM parse error: {e} | raw: {raw}'}"
      ]
    },
    {
      "cell_type": "code",
      "execution_count": null,
      "metadata": {
        "id": "GVYVyAMIomcq"
      },
      "outputs": [],
      "source": [
        "# Implementation using Gemini LLM\n",
        "\n",
        "def config_llm_gemini(temperature:int):\n",
        "  '''LLM api calling using Gemini  '''\n",
        "  # Steps for students:\n",
        "  # - Go to https://aistudio.google.com/app/apikey and generate your Gemini API key.\n",
        "  # - Add the necessary packages to your requirements.txt:\n",
        "  #    langchain\n",
        "  #    langchain-google-genai\n",
        "  # - Run the following command to install them:\n",
        "  #     !pip install -r requirements.txt\n",
        "  # - Follow the official integration guide for LangChain + Google Generative AI:\n",
        "  #     https://python.langchain.com/docs/integrations/chat/google_generative_ai/\n",
        "  # Pay attention to the request limits of the chosen model.\n",
        "  return \"llm\" #Should return the LLM response"
      ]
    },
    {
      "cell_type": "markdown",
      "metadata": {
        "id": "DYMe88-1omcr"
      },
      "source": [
        "### 🔗 Calendar integration (Opcional)\n",
        "Function to create events in external calendar tool"
      ]
    },
    {
      "cell_type": "code",
      "execution_count": null,
      "metadata": {
        "id": "LMSL1shtomct"
      },
      "outputs": [],
      "source": [
        "# def create_calendar_event(summary, start, end, timezone='UTC'):\n",
        "#     pass  # implementar conforme API desejada"
      ]
    },
    {
      "cell_type": "markdown",
      "metadata": {
        "id": "SsirlDdIomcv"
      },
      "source": [
        "### 🧪 Use case examples"
      ]
    },
    {
      "cell_type": "code",
      "execution_count": null,
      "metadata": {
        "id": "VYLWv6ebomcv"
      },
      "outputs": [],
      "source": [
        "# Exemplo OCR:\n",
        "# img_text = extract_text_from_image('scan.png')\n",
        "# print(infer_deadline(img_text))\n",
        "\n",
        "# Exemplo agente:\n",
        "# print(agent_process('Entregar Modelo 22'))\n",
        "# print(agent_process('Enviar IES até dia 15 de abril'))\n",
        "\n",
        "# Working days:\n",
        "# base = datetime(2025,5,27)\n",
        "# print(add_working_days(base,5))"
      ]
    }
  ],
  "metadata": {
    "kernelspec": {
      "display_name": "Python 3",
      "language": "python",
      "name": "python3"
    },
    "language_info": {
      "name": "python"
    },
    "colab": {
      "provenance": [],
      "include_colab_link": true
    }
  },
  "nbformat": 4,
  "nbformat_minor": 0
}